{
  "metadata": {
    "colab": {
      "provenance": [],
      "gpuType": "T4",
      "name": "Sentiment_Analysis_ML",
      "include_colab_link": true
    },
    "kernelspec": {
      "name": "python3",
      "display_name": "Python 3",
      "language": "python"
    },
    "language_info": {
      "name": "python",
      "version": "3.10.13",
      "mimetype": "text/x-python",
      "codemirror_mode": {
        "name": "ipython",
        "version": 3
      },
      "pygments_lexer": "ipython3",
      "nbconvert_exporter": "python",
      "file_extension": ".py"
    },
    "accelerator": "GPU",
    "kaggle": {
      "accelerator": "none",
      "dataSources": [
        {
          "sourceId": 4140,
          "sourceType": "datasetVersion",
          "datasetId": 2477
        }
      ],
      "dockerImageVersionId": 30673,
      "isInternetEnabled": true,
      "language": "python",
      "sourceType": "notebook",
      "isGpuEnabled": false
    }
  },
  "nbformat_minor": 0,
  "nbformat": 4,
  "cells": [
    {
      "cell_type": "markdown",
      "metadata": {
        "id": "view-in-github",
        "colab_type": "text"
      },
      "source": [
        "<a href=\"https://colab.research.google.com/github/MohibShaikh/Twitter-Sentiment-Analysis/blob/main/Sentiment_Analysis_ML.ipynb\" target=\"_parent\"><img src=\"https://colab.research.google.com/assets/colab-badge.svg\" alt=\"Open In Colab\"/></a>"
      ]
    },
    {
      "cell_type": "code",
      "source": [
        "import numpy as np\n",
        "import pandas as pd\n",
        "import re\n",
        "from sklearn.model_selection import train_test_split\n",
        "from nltk.corpus import stopwords\n",
        "from nltk.stem.porter import PorterStemmer\n",
        "from sklearn.feature_extraction.text import TfidfVectorizer\n",
        "from sklearn.linear_model import LogisticRegression\n",
        "from sklearn.ensemble import GradientBoostingClassifier\n",
        "from sklearn.metrics import accuracy_score, confusion_matrix, precision_score, recall_score"
      ],
      "metadata": {
        "id": "OIKg9NYBDpC5",
        "execution": {
          "iopub.status.busy": "2024-04-05T23:30:28.287576Z",
          "iopub.execute_input": "2024-04-05T23:30:28.288763Z",
          "iopub.status.idle": "2024-04-05T23:30:28.295472Z",
          "shell.execute_reply.started": "2024-04-05T23:30:28.288724Z",
          "shell.execute_reply": "2024-04-05T23:30:28.294113Z"
        },
        "trusted": true
      },
      "execution_count": null,
      "outputs": []
    },
    {
      "cell_type": "code",
      "source": [
        "import nltk\n",
        "nltk.download('stopwords')"
      ],
      "metadata": {
        "id": "t3vrXUNg41aS",
        "execution": {
          "iopub.status.busy": "2024-04-05T21:49:11.934196Z",
          "iopub.execute_input": "2024-04-05T21:49:11.934714Z",
          "iopub.status.idle": "2024-04-05T21:49:12.042471Z",
          "shell.execute_reply.started": "2024-04-05T21:49:11.934683Z",
          "shell.execute_reply": "2024-04-05T21:49:12.041343Z"
        },
        "trusted": true
      },
      "execution_count": null,
      "outputs": []
    },
    {
      "cell_type": "code",
      "source": [
        "print(stopwords.words('german'))"
      ],
      "metadata": {
        "id": "ecb1Pj42_x-v",
        "execution": {
          "iopub.status.busy": "2024-04-05T21:49:12.043701Z",
          "iopub.execute_input": "2024-04-05T21:49:12.044058Z",
          "iopub.status.idle": "2024-04-05T21:49:12.053451Z",
          "shell.execute_reply.started": "2024-04-05T21:49:12.044022Z",
          "shell.execute_reply": "2024-04-05T21:49:12.052326Z"
        },
        "trusted": true
      },
      "execution_count": null,
      "outputs": []
    },
    {
      "cell_type": "markdown",
      "source": [
        "### Data Preprocessing"
      ],
      "metadata": {
        "id": "lpADLh5aAd5Q"
      }
    },
    {
      "cell_type": "code",
      "source": [
        "columns = ['target','id','date','flag','user','text']\n",
        "# Loading Data\n",
        "twt_data = pd.read_csv('/kaggle/input/sentiment140/training.1600000.processed.noemoticon.csv',names=columns,\n",
        "                       encoding='ISO-8859-1')"
      ],
      "metadata": {
        "id": "2XYcUhHYAW5l",
        "execution": {
          "iopub.status.busy": "2024-04-05T21:49:13.832667Z",
          "iopub.execute_input": "2024-04-05T21:49:13.83309Z",
          "iopub.status.idle": "2024-04-05T21:49:21.3524Z",
          "shell.execute_reply.started": "2024-04-05T21:49:13.833059Z",
          "shell.execute_reply": "2024-04-05T21:49:21.351136Z"
        },
        "trusted": true
      },
      "execution_count": null,
      "outputs": []
    },
    {
      "cell_type": "code",
      "source": [
        "twt_data.head()"
      ],
      "metadata": {
        "id": "-zZ8xTCCAt54",
        "execution": {
          "iopub.status.busy": "2024-04-05T21:49:21.354307Z",
          "iopub.execute_input": "2024-04-05T21:49:21.35462Z",
          "iopub.status.idle": "2024-04-05T21:49:21.373855Z",
          "shell.execute_reply.started": "2024-04-05T21:49:21.354592Z",
          "shell.execute_reply": "2024-04-05T21:49:21.372654Z"
        },
        "trusted": true
      },
      "execution_count": null,
      "outputs": []
    },
    {
      "cell_type": "code",
      "source": [
        "twt_data.shape"
      ],
      "metadata": {
        "id": "FqY5JvmdAvF2",
        "execution": {
          "iopub.status.busy": "2024-04-05T21:49:21.375217Z",
          "iopub.execute_input": "2024-04-05T21:49:21.375606Z",
          "iopub.status.idle": "2024-04-05T21:49:21.3845Z",
          "shell.execute_reply.started": "2024-04-05T21:49:21.375575Z",
          "shell.execute_reply": "2024-04-05T21:49:21.383183Z"
        },
        "trusted": true
      },
      "execution_count": null,
      "outputs": []
    },
    {
      "cell_type": "code",
      "source": [
        "twt_data.describe()"
      ],
      "metadata": {
        "id": "LAtpb1CiAzmt",
        "execution": {
          "iopub.status.busy": "2024-04-05T21:49:21.387263Z",
          "iopub.execute_input": "2024-04-05T21:49:21.387703Z",
          "iopub.status.idle": "2024-04-05T21:49:21.525498Z",
          "shell.execute_reply.started": "2024-04-05T21:49:21.387664Z",
          "shell.execute_reply": "2024-04-05T21:49:21.52441Z"
        },
        "trusted": true
      },
      "execution_count": null,
      "outputs": []
    },
    {
      "cell_type": "code",
      "source": [
        "twt_data.tail()"
      ],
      "metadata": {
        "id": "CeJ36GFsA1Op",
        "execution": {
          "iopub.status.busy": "2024-04-05T21:49:21.527036Z",
          "iopub.execute_input": "2024-04-05T21:49:21.527478Z",
          "iopub.status.idle": "2024-04-05T21:49:21.541536Z",
          "shell.execute_reply.started": "2024-04-05T21:49:21.527437Z",
          "shell.execute_reply": "2024-04-05T21:49:21.540311Z"
        },
        "trusted": true
      },
      "execution_count": null,
      "outputs": []
    },
    {
      "cell_type": "code",
      "source": [
        "twt_data.isnull().sum()"
      ],
      "metadata": {
        "id": "71qWTTcEBh1r",
        "execution": {
          "iopub.status.busy": "2024-04-05T21:49:21.543105Z",
          "iopub.execute_input": "2024-04-05T21:49:21.543463Z",
          "iopub.status.idle": "2024-04-05T21:49:22.274803Z",
          "shell.execute_reply.started": "2024-04-05T21:49:21.543431Z",
          "shell.execute_reply": "2024-04-05T21:49:22.273506Z"
        },
        "trusted": true
      },
      "execution_count": null,
      "outputs": []
    },
    {
      "cell_type": "code",
      "source": [
        "twt_data['target'].value_counts()\n",
        "twt_data.replace({'target':{4:1}},inplace=True)\n",
        "twt_data"
      ],
      "metadata": {
        "id": "xaj8fAQBCXca",
        "execution": {
          "iopub.status.busy": "2024-04-05T21:49:26.085819Z",
          "iopub.execute_input": "2024-04-05T21:49:26.086232Z",
          "iopub.status.idle": "2024-04-05T21:49:26.151568Z",
          "shell.execute_reply.started": "2024-04-05T21:49:26.0862Z",
          "shell.execute_reply": "2024-04-05T21:49:26.150433Z"
        },
        "trusted": true
      },
      "execution_count": null,
      "outputs": []
    },
    {
      "cell_type": "code",
      "source": [
        "port_stem = PorterStemmer()"
      ],
      "metadata": {
        "id": "DZP7tzCZCtZi",
        "execution": {
          "iopub.status.busy": "2024-04-05T21:49:27.406798Z",
          "iopub.execute_input": "2024-04-05T21:49:27.407245Z",
          "iopub.status.idle": "2024-04-05T21:49:27.413471Z",
          "shell.execute_reply.started": "2024-04-05T21:49:27.40721Z",
          "shell.execute_reply": "2024-04-05T21:49:27.41197Z"
        },
        "trusted": true
      },
      "execution_count": null,
      "outputs": []
    },
    {
      "cell_type": "code",
      "source": [
        "def stemming(content):\n",
        "  stemmed_content = re.sub('[^a-zA-Z]',' ',content)\n",
        "  stemmed_content = stemmed_content.lower()\n",
        "  stemmed_content = stemmed_content.split()\n",
        "  stemmed_content = [port_stem.stem(word) for word in stemmed_content if not word in stopwords.words('english')]\n",
        "  stemmed_content = ' '.join(stemmed_content)\n",
        "  return stemmed_content"
      ],
      "metadata": {
        "id": "uTepB5ytDlEL",
        "execution": {
          "iopub.status.busy": "2024-04-05T21:49:28.893461Z",
          "iopub.execute_input": "2024-04-05T21:49:28.893936Z",
          "iopub.status.idle": "2024-04-05T21:49:28.900599Z",
          "shell.execute_reply.started": "2024-04-05T21:49:28.89387Z",
          "shell.execute_reply": "2024-04-05T21:49:28.899337Z"
        },
        "trusted": true
      },
      "execution_count": null,
      "outputs": []
    },
    {
      "cell_type": "code",
      "source": [
        "twt_data['stemmed_content'] = twt_data['text'].apply(stemming)"
      ],
      "metadata": {
        "id": "Gas5SIC9vmRe",
        "execution": {
          "iopub.status.busy": "2024-04-05T21:49:57.56199Z",
          "iopub.execute_input": "2024-04-05T21:49:57.562866Z"
        },
        "trusted": true
      },
      "execution_count": null,
      "outputs": []
    },
    {
      "cell_type": "code",
      "source": [
        "twt_data"
      ],
      "metadata": {
        "id": "47Ctrj4Qxxpr",
        "execution": {
          "iopub.status.busy": "2024-04-05T23:38:09.173288Z",
          "iopub.execute_input": "2024-04-05T23:38:09.174458Z",
          "iopub.status.idle": "2024-04-05T23:38:09.193121Z",
          "shell.execute_reply.started": "2024-04-05T23:38:09.174407Z",
          "shell.execute_reply": "2024-04-05T23:38:09.19166Z"
        },
        "trusted": true
      },
      "execution_count": null,
      "outputs": []
    },
    {
      "cell_type": "code",
      "source": [
        "X = twt_data['stemmed_content'].values\n",
        "Y = twt_data['target'].values"
      ],
      "metadata": {
        "id": "GvoUDEzJxzgS",
        "trusted": true
      },
      "execution_count": null,
      "outputs": []
    },
    {
      "cell_type": "code",
      "source": [
        "X_train, X_test, Y_train, Y_test = train_test_split(X,Y, test_size=0.2, stratify=Y,random_state=2)"
      ],
      "metadata": {
        "trusted": true,
        "id": "76B66_Ivpw_8"
      },
      "execution_count": null,
      "outputs": []
    },
    {
      "cell_type": "code",
      "source": [
        "vectorizer = TfidfVectorizer()\n",
        "X_train = vectorizer.fit_transform(X_train)\n",
        "X_test = vectorizer.transform(X_test)"
      ],
      "metadata": {
        "execution": {
          "iopub.status.busy": "2024-04-05T23:26:45.550497Z",
          "iopub.execute_input": "2024-04-05T23:26:45.55091Z",
          "iopub.status.idle": "2024-04-05T23:27:12.463311Z",
          "shell.execute_reply.started": "2024-04-05T23:26:45.550863Z",
          "shell.execute_reply": "2024-04-05T23:27:12.462119Z"
        },
        "trusted": true,
        "id": "663o62OBpw_8"
      },
      "execution_count": null,
      "outputs": []
    },
    {
      "cell_type": "code",
      "source": [
        "model = LogisticRegression(max_iter=1000, random_state=2).fit(X_train,Y_train)"
      ],
      "metadata": {
        "execution": {
          "iopub.status.busy": "2024-04-05T23:27:28.750215Z",
          "iopub.execute_input": "2024-04-05T23:27:28.750654Z",
          "iopub.status.idle": "2024-04-05T23:29:36.219301Z",
          "shell.execute_reply.started": "2024-04-05T23:27:28.75062Z",
          "shell.execute_reply": "2024-04-05T23:29:36.217667Z"
        },
        "trusted": true,
        "id": "WGHWVXsvpw_8"
      },
      "execution_count": null,
      "outputs": []
    },
    {
      "cell_type": "code",
      "source": [
        "model_2 = GradientBoostingClassifier(random_state=2).fit(X_train,Y_train)"
      ],
      "metadata": {
        "trusted": true,
        "id": "2qwowoTfpw_8"
      },
      "execution_count": null,
      "outputs": []
    },
    {
      "cell_type": "markdown",
      "source": [
        "## Logistic Regression"
      ],
      "metadata": {
        "id": "QV2FGlVjpw_9"
      }
    },
    {
      "cell_type": "code",
      "source": [
        "X_train_pred = model.predict(X_train)\n",
        "training_data_acc = accuracy_score(Y_train, X_train_pred)\n",
        "training_data_cm = confusion_matrix(Y_train, X_train_pred)\n",
        "training_data_ps = precision_score(Y_train, X_train_pred)\n",
        "training_data_rs = recall_score(Y_train, X_train_pred)"
      ],
      "metadata": {
        "id": "CO86p0xKpw_9"
      },
      "execution_count": null,
      "outputs": []
    },
    {
      "cell_type": "code",
      "source": [
        "print(f'Accuracy Score (LogisticRegression): {training_data_acc}')\n",
        "print(f'Confusion Matrix (LogisticRegression): {training_data_cf}')\n",
        "print(f'Precision Score (LogisticRegression): {training_data_ps}')\n",
        "print(f'Recall Score (LogisticRegression): {training_data_rs}')"
      ],
      "metadata": {
        "id": "SqyZMGMOpw_9"
      },
      "execution_count": null,
      "outputs": []
    },
    {
      "cell_type": "markdown",
      "source": [
        "## Gradient Boosting Classifier"
      ],
      "metadata": {
        "id": "HfnudCiopw_9"
      }
    },
    {
      "cell_type": "code",
      "source": [
        "X_train_pred2 = model_2.predict(X_train)\n",
        "training_data_acc2 = accuracy_score(Y_train, X_train_pred2)\n",
        "training_data_cm2 = confusion_matrix(Y_train, X_train_pred2)\n",
        "training_data_ps2 = precision_score(Y_train, X_train_pred2)\n",
        "training_data_rs2 = recall_score(Y_train, X_train_pred2)"
      ],
      "metadata": {
        "id": "UhPwQz4Bpw_9"
      },
      "execution_count": null,
      "outputs": []
    },
    {
      "cell_type": "code",
      "source": [
        "print(f'Accuracy Score (GradientBoostingClassifier): {training_data_acc2}')\n",
        "print(f'Confusion Matrix (GradientBoostingClassifier): {training_data_cf2}')\n",
        "print(f'Precision Score (GradientBoostingClassifier): {training_data_ps2}')\n",
        "print(f'Recall Score (GradientBoostingClassifier): {training_data_rs2}')"
      ],
      "metadata": {
        "id": "-mxD3obxpw_9"
      },
      "execution_count": null,
      "outputs": []
    }
  ]
}